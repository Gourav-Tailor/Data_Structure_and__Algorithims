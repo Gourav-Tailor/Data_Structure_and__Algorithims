{
 "cells": [
  {
   "cell_type": "code",
   "execution_count": 5,
   "id": "0ddbfa46",
   "metadata": {},
   "outputs": [
    {
     "name": "stdout",
     "output_type": "stream",
     "text": [
      "DFS Traversal  [0, 1, 3, 4, 2, 5, 6]\n",
      "BFS traversal  [0, 1, 2, 3, 4, 5, 6]\n"
     ]
    }
   ],
   "source": [
    "# DFS and BFS traversals\n",
    "\n",
    "from collections import defaultdict, deque\n",
    "\n",
    "class Graph:\n",
    "    def __init__(self):\n",
    "        self.adj_list = defaultdict(list)\n",
    "    \n",
    "    def add_edge(self, u, v):\n",
    "        self.adj_list[u].append(v)  # for weighted graph we can use self.adj_list[u].append((u, v))\n",
    "        self.adj_list[v].append(u) # we can exclude this for directed graphs\n",
    "    \n",
    "    def dfs(self, start_node):\n",
    "        visited = set()\n",
    "        traversal_order = []\n",
    "        self._dfs_helper(start_node, visited, traversal_order)\n",
    "        return traversal_order\n",
    "    \n",
    "    def _dfs_helper(self, node, visited, traversal_order):\n",
    "        traversal_order.append(node)\n",
    "        visited.add(node)\n",
    "        for neighbor in self.adj_list[node]:\n",
    "            if neighbor not in visited:\n",
    "                self._dfs_helper(neighbor, visited, traversal_order)\n",
    "    \n",
    "    def bfs(self, start_node):\n",
    "        visited = set()\n",
    "        traversal_order = []\n",
    "        queue = deque([start_node])\n",
    "        visited.add(start_node)\n",
    "        while queue:\n",
    "            node = queue.popleft()\n",
    "            traversal_order.append(node)\n",
    "            for neighbor in self.adj_list[node]:\n",
    "                if neighbor not in visited:\n",
    "                    queue.append(neighbor)\n",
    "                    visited.add(neighbor)\n",
    "        return traversal_order\n",
    "\n",
    "graph = Graph()\n",
    "edges = [(0,1), (0,2), (1,3), (1,4), (2,5), (2,6)]\n",
    "\n",
    "for u, v in edges:\n",
    "    graph.add_edge(u, v)\n",
    "\n",
    "start_node = 0\n",
    "dfs_traversal = graph.dfs(start_node)\n",
    "bfs_traversal = graph.bfs(start_node)\n",
    "\n",
    "print(\"DFS Traversal \", dfs_traversal)\n",
    "print(\"BFS traversal \", bfs_traversal)\n"
   ]
  },
  {
   "cell_type": "code",
   "execution_count": null,
   "id": "38ed0b32",
   "metadata": {},
   "outputs": [
    {
     "name": "stdout",
     "output_type": "stream",
     "text": [
      "Graph contains a cycle\n"
     ]
    }
   ],
   "source": [
    "# cycle detection in undirected graph\n",
    "from collections import defaultdict\n",
    "\n",
    "class Graph:\n",
    "    def __init__(self):\n",
    "        self.adj_list = defaultdict(list)\n",
    "    \n",
    "    def add_edge(self,u, v):\n",
    "        self.adj_list[u].append(v)\n",
    "        self.adj_list[v].append(u)\n",
    "    \n",
    "    def detect_cycle(self):\n",
    "        visited = set()\n",
    "        for node in self.adj_list:\n",
    "            if node not in visited:\n",
    "                if self._detect_cycle_helper(node, visited, None):\n",
    "                    return True\n",
    "        return False\n",
    "\n",
    "    def _detect_cycle_helper(self, node, visited, parent):\n",
    "        visited.add(node)\n",
    "        for neighbor in self.adj_list[node]:\n",
    "            if neighbor not in visited:\n",
    "                if self._detect_cycle_helper(neighbor, visited, node):\n",
    "                    return True\n",
    "            elif neighbor != parent:\n",
    "                return True\n",
    "        return False\n",
    "\n",
    "graph = Graph()\n",
    "edges = [(0,1),(1,2),(2,0),(3,4)]\n",
    "for u, v in edges:\n",
    "    graph.add_edge(u, v)\n",
    "\n",
    "if graph.detect_cycle():\n",
    "    print(\"Graph contains a cycle\")\n",
    "else:\n",
    "    print(\"Graph does not contain a cycle\")"
   ]
  },
  {
   "cell_type": "code",
   "execution_count": 11,
   "id": "961488db",
   "metadata": {},
   "outputs": [
    {
     "name": "stdout",
     "output_type": "stream",
     "text": [
      "Graph contains a cycle\n"
     ]
    }
   ],
   "source": [
    "# cycle detection in directed graph\n",
    "from collections import defaultdict\n",
    "\n",
    "class Graph:\n",
    "    def __init__(self):\n",
    "        self.adj_list = defaultdict(list)\n",
    "    \n",
    "    def add_edge(self,u, v):\n",
    "        self.adj_list[u].append(v)\n",
    "    \n",
    "    def detect_cycle(self):\n",
    "        visited = set()\n",
    "        recursion_stack = set()\n",
    "        for node in self.adj_list:\n",
    "            if node not in visited:\n",
    "                if self._detect_cycle_helper(node, visited, recursion_stack):\n",
    "                    return True\n",
    "        return False\n",
    "\n",
    "    def _detect_cycle_helper(self, node, visited, recursion_stack):\n",
    "        visited.add(node)\n",
    "        recursion_stack.add(node)\n",
    "        for neighbor in self.adj_list[node]:\n",
    "            if neighbor not in visited:\n",
    "                if self._detect_cycle_helper(neighbor, visited, recursion_stack):\n",
    "                    return True\n",
    "            elif neighbor in recursion_stack:\n",
    "                return True\n",
    "        recursion_stack.remove(node)\n",
    "        return False\n",
    "\n",
    "graph = Graph()\n",
    "edges = [(0,1),(1,2),(2,0),(3,4)]\n",
    "for u, v in edges:\n",
    "    graph.add_edge(u, v)\n",
    "\n",
    "if graph.detect_cycle():\n",
    "    print(\"Graph contains a cycle\")\n",
    "else:\n",
    "    print(\"Graph does not contain a cycle\")"
   ]
  },
  {
   "cell_type": "code",
   "execution_count": null,
   "id": "46daada3",
   "metadata": {},
   "outputs": [
    {
     "name": "stdout",
     "output_type": "stream",
     "text": [
      "[3, 2, 1, 0]\n"
     ]
    }
   ],
   "source": [
    "# Topological ordering in Graph\n",
    "from collections import defaultdict\n",
    "\n",
    "class Graph:\n",
    "    def __init__(self):\n",
    "        self.adj_list = defaultdict(list)\n",
    "    \n",
    "    def add_edge(self,u, v):\n",
    "        self.adj_list[u].append(v)\n",
    "    \n",
    "    def topological_sort(self):\n",
    "        visited = set()\n",
    "        ordering = []\n",
    "        for node in self.adj_list:\n",
    "            if node not in visited:\n",
    "                self._topological_sort_helper(node, visited, ordering)\n",
    "        return ordering[::-1]\n",
    "    \n",
    "    def _topological_sort_helper(self, node, visited, ordering):\n",
    "        visited.add(node)\n",
    "        for neighbor in self.adj_list[node]:\n",
    "            if node not in visited:\n",
    "                self._topological_sort_helper(neighbor, visited, ordering)\n",
    "        ordering.append(node)\n",
    "\n",
    "graph = Graph()\n",
    "edges = [(0,1),(1,2),(2,0),(3,4)]\n",
    "for u, v in edges:\n",
    "    graph.add_edge(u, v)\n",
    "\n",
    "toplogical = graph.topological_sort()\n",
    "print(toplogical)"
   ]
  },
  {
   "cell_type": "code",
   "execution_count": null,
   "id": "ed3503fa",
   "metadata": {},
   "outputs": [],
   "source": []
  }
 ],
 "metadata": {
  "kernelspec": {
   "display_name": "Python 3",
   "language": "python",
   "name": "python3"
  },
  "language_info": {
   "codemirror_mode": {
    "name": "ipython",
    "version": 3
   },
   "file_extension": ".py",
   "mimetype": "text/x-python",
   "name": "python",
   "nbconvert_exporter": "python",
   "pygments_lexer": "ipython3",
   "version": "3.12.6"
  }
 },
 "nbformat": 4,
 "nbformat_minor": 5
}
