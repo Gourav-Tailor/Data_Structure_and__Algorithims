{
 "cells": [
  {
   "cell_type": "code",
   "execution_count": 1,
   "id": "d3448ab4",
   "metadata": {},
   "outputs": [
    {
     "data": {
      "text/plain": [
       "5.69"
      ]
     },
     "execution_count": 1,
     "metadata": {},
     "output_type": "execute_result"
    }
   ],
   "source": [
    "abs(-5.69)"
   ]
  },
  {
   "cell_type": "code",
   "execution_count": 2,
   "id": "060318a9",
   "metadata": {},
   "outputs": [
    {
     "data": {
      "text/plain": [
       "10"
      ]
     },
     "execution_count": 2,
     "metadata": {},
     "output_type": "execute_result"
    }
   ],
   "source": [
    "max(1,2,5,6,10)"
   ]
  },
  {
   "cell_type": "code",
   "execution_count": 8,
   "id": "549b6ba3",
   "metadata": {},
   "outputs": [
    {
     "data": {
      "text/plain": [
       "-5"
      ]
     },
     "execution_count": 8,
     "metadata": {},
     "output_type": "execute_result"
    }
   ],
   "source": [
    "min([1,2,3,-5])"
   ]
  },
  {
   "cell_type": "code",
   "execution_count": 4,
   "id": "5ec15918",
   "metadata": {},
   "outputs": [
    {
     "data": {
      "text/plain": [
       "81"
      ]
     },
     "execution_count": 4,
     "metadata": {},
     "output_type": "execute_result"
    }
   ],
   "source": [
    "pow(9,2)"
   ]
  },
  {
   "cell_type": "code",
   "execution_count": 5,
   "id": "293420a1",
   "metadata": {},
   "outputs": [
    {
     "data": {
      "text/plain": [
       "1.26"
      ]
     },
     "execution_count": 5,
     "metadata": {},
     "output_type": "execute_result"
    }
   ],
   "source": [
    "round(1.256, 2)"
   ]
  },
  {
   "cell_type": "code",
   "execution_count": 13,
   "id": "42c9a6a2",
   "metadata": {},
   "outputs": [
    {
     "data": {
      "text/plain": [
       "{'value': 20}"
      ]
     },
     "execution_count": 13,
     "metadata": {},
     "output_type": "execute_result"
    }
   ],
   "source": [
    "max([{'value':10}, {'value': 11}, {'value': 20}],key=lambda x: x.get('value'))"
   ]
  },
  {
   "cell_type": "code",
   "execution_count": null,
   "id": "d196ebd3",
   "metadata": {},
   "outputs": [],
   "source": []
  }
 ],
 "metadata": {
  "kernelspec": {
   "display_name": "Python 3",
   "language": "python",
   "name": "python3"
  },
  "language_info": {
   "codemirror_mode": {
    "name": "ipython",
    "version": 3
   },
   "file_extension": ".py",
   "mimetype": "text/x-python",
   "name": "python",
   "nbconvert_exporter": "python",
   "pygments_lexer": "ipython3",
   "version": "3.12.6"
  }
 },
 "nbformat": 4,
 "nbformat_minor": 5
}
