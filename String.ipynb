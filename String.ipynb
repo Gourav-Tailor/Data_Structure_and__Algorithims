{
 "cells": [
  {
   "cell_type": "code",
   "execution_count": 10,
   "id": "d2bbdce7",
   "metadata": {},
   "outputs": [],
   "source": [
    "string_1 = \"Hello, My name is Gourav.\"\n",
    "\n",
    "string_2 = str(\" Hello, Good Morning! \")"
   ]
  },
  {
   "cell_type": "code",
   "execution_count": 6,
   "id": "1a93c8a6",
   "metadata": {},
   "outputs": [
    {
     "name": "stdout",
     "output_type": "stream",
     "text": [
      "HELLO, MY NAME IS GOURAV.\n"
     ]
    }
   ],
   "source": [
    "print(string_1.upper())"
   ]
  },
  {
   "cell_type": "code",
   "execution_count": 7,
   "id": "8cc5cb94",
   "metadata": {},
   "outputs": [
    {
     "name": "stdout",
     "output_type": "stream",
     "text": [
      "hello, my name is gourav.\n"
     ]
    }
   ],
   "source": [
    "print(string_1.lower())"
   ]
  },
  {
   "cell_type": "code",
   "execution_count": 13,
   "id": "f808c3ae",
   "metadata": {},
   "outputs": [
    {
     "name": "stdout",
     "output_type": "stream",
     "text": [
      "Hello, Good Morning!\n"
     ]
    }
   ],
   "source": [
    "print(string_2.strip())"
   ]
  },
  {
   "cell_type": "code",
   "execution_count": 14,
   "id": "97bf7f50",
   "metadata": {},
   "outputs": [
    {
     "name": "stdout",
     "output_type": "stream",
     "text": [
      "['Hello,', 'Good', 'Morning!']\n"
     ]
    }
   ],
   "source": [
    "print(string_2.split())"
   ]
  },
  {
   "cell_type": "code",
   "execution_count": 15,
   "id": "4aa0a861",
   "metadata": {},
   "outputs": [
    {
     "data": {
      "text/plain": [
       "'Hello, My name is Gourav.  Hello, Good Morning! '"
      ]
     },
     "execution_count": 15,
     "metadata": {},
     "output_type": "execute_result"
    }
   ],
   "source": [
    "\" \".join([string_1, string_2])"
   ]
  },
  {
   "cell_type": "code",
   "execution_count": 18,
   "id": "c1580223",
   "metadata": {},
   "outputs": [
    {
     "name": "stdout",
     "output_type": "stream",
     "text": [
      "Hello, My name is Gourav.\n",
      " Hello, Good Morning! \n"
     ]
    }
   ],
   "source": [
    "print(string_1)\n",
    "print(string_2)"
   ]
  },
  {
   "cell_type": "code",
   "execution_count": null,
   "id": "7d92ba6c",
   "metadata": {},
   "outputs": [],
   "source": []
  }
 ],
 "metadata": {
  "kernelspec": {
   "display_name": "Python 3",
   "language": "python",
   "name": "python3"
  },
  "language_info": {
   "codemirror_mode": {
    "name": "ipython",
    "version": 3
   },
   "file_extension": ".py",
   "mimetype": "text/x-python",
   "name": "python",
   "nbconvert_exporter": "python",
   "pygments_lexer": "ipython3",
   "version": "3.12.6"
  }
 },
 "nbformat": 4,
 "nbformat_minor": 5
}
