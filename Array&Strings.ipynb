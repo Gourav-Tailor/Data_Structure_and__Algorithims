{
 "cells": [
  {
   "cell_type": "code",
   "execution_count": 10,
   "id": "4e1866aa",
   "metadata": {},
   "outputs": [
    {
     "name": "stdout",
     "output_type": "stream",
     "text": [
      "ABC\n"
     ]
    }
   ],
   "source": [
    "#longest substring\n",
    "\n",
    "def longest_substr(s : str) -> str:\n",
    "    char_index = {}\n",
    "    left = 0\n",
    "    max_length = 0\n",
    "    max_substring = \"\"\n",
    "    for right, char in enumerate(s):\n",
    "        if char in char_index:\n",
    "            left = max(left, char_index[char] + 1)\n",
    "        char_index[char] = right\n",
    "        if right - left + 1 > max_length:\n",
    "            max_length =  right - left + 1\n",
    "            max_substring = s[left:right + 1]\n",
    "    return max_substring\n",
    "\n",
    "s = \"ABCABCBB\"\n",
    "print(longest_substr(s))"
   ]
  },
  {
   "cell_type": "code",
   "execution_count": 11,
   "id": "b0d1b926",
   "metadata": {},
   "outputs": [
    {
     "name": "stdout",
     "output_type": "stream",
     "text": [
      "Maximum area  56\n"
     ]
    }
   ],
   "source": [
    "#max area\n",
    "\n",
    "def max_area(height: int):\n",
    "    left = 0\n",
    "    right = len(height)-1\n",
    "    max_area = 0\n",
    "    while left < right:\n",
    "        area = max(height[left], height[right]) * (right-left)\n",
    "        max_area = max(max_area, area)\n",
    "        if height[left] < height[right]:\n",
    "            left += 1\n",
    "        else: \n",
    "            right -= 1\n",
    "    return max_area\n",
    "\n",
    "height = [1,8,6,2,5,4,8,3,7]\n",
    "print(\"Maximum area \", max_area(height))"
   ]
  },
  {
   "cell_type": "code",
   "execution_count": null,
   "id": "14c5e706",
   "metadata": {},
   "outputs": [
    {
     "name": "stdout",
     "output_type": "stream",
     "text": [
      "[0, 1, 6, 12, 14, 22, 29, 38]\n"
     ]
    }
   ],
   "source": [
    "#prefix sum of array\n",
    "\n",
    "def prefix_sum(arr):\n",
    "    prefix_sum_arr = [0] * (len(arr) + 1)\n",
    "    for i in range(len(arr)):\n",
    "        prefix_sum_arr[i + 1] = prefix_sum_arr[i] + arr[i]\n",
    "    return prefix_sum_arr\n",
    "\n",
    "arr = [1,5,6,2,8,7,9]\n",
    "print(prefix_sum(arr))"
   ]
  },
  {
   "cell_type": "code",
   "execution_count": 15,
   "id": "5169edfd",
   "metadata": {},
   "outputs": [
    {
     "name": "stdout",
     "output_type": "stream",
     "text": [
      "[1, 4, 1, -4, 6, -1, 2]\n"
     ]
    }
   ],
   "source": [
    "#difference array\n",
    "\n",
    "def diff_arr(arr):\n",
    "    diff_arr = [0] * len(arr)\n",
    "    diff_arr[0] = arr[0]\n",
    "    for i in range(1, len(arr)):\n",
    "        diff_arr[i] = arr[i] - arr[i-1]\n",
    "    return diff_arr\n",
    "\n",
    "arr = [1,5,6,2,8,7,9]\n",
    "print(diff_arr(arr))"
   ]
  },
  {
   "cell_type": "code",
   "execution_count": 16,
   "id": "faf92db8",
   "metadata": {},
   "outputs": [
    {
     "name": "stdout",
     "output_type": "stream",
     "text": [
      "length of modified arr after duplication removed: 4\n"
     ]
    }
   ],
   "source": [
    "# in place modification\n",
    "\n",
    "def remove_duplicate(nums):\n",
    "    if len(nums) == 0:\n",
    "        return 0\n",
    "    i = 0\n",
    "    for j in range(1, len(nums)):\n",
    "        if nums[i] != nums[j]:\n",
    "            i += 1\n",
    "            nums[i] = nums[j]\n",
    "    return i + 1\n",
    "\n",
    "arr = [1,1,2,2,2,3,3,4]\n",
    "print(f\"length of modified arr after duplication removed: {remove_duplicate(arr)}\")"
   ]
  },
  {
   "cell_type": "code",
   "execution_count": null,
   "id": "c0851749",
   "metadata": {},
   "outputs": [
    {
     "name": "stdout",
     "output_type": "stream",
     "text": [
      "Maximum sum of subarray is : 13\n"
     ]
    }
   ],
   "source": [
    "# kadanes algorithim for max subarray sum\n",
    "\n",
    "def max_subarray_sum(arr):\n",
    "    max_current = max_global = arr[0]\n",
    "    for i in range(1, len(arr)):\n",
    "        max_current = max(arr[i], max_current + arr[i]) \n",
    "        if max_global < max_current:\n",
    "            max_global = max_current\n",
    "    return max_global\n",
    "\n",
    "arr = [-1,-5,6,-2,9]\n",
    "print(f\"Maximum sum of subarray is : {max_subarray_sum(arr)}\")"
   ]
  },
  {
   "cell_type": "code",
   "execution_count": null,
   "id": "2f635d9d",
   "metadata": {},
   "outputs": [],
   "source": []
  }
 ],
 "metadata": {
  "kernelspec": {
   "display_name": "Python 3",
   "language": "python",
   "name": "python3"
  },
  "language_info": {
   "codemirror_mode": {
    "name": "ipython",
    "version": 3
   },
   "file_extension": ".py",
   "mimetype": "text/x-python",
   "name": "python",
   "nbconvert_exporter": "python",
   "pygments_lexer": "ipython3",
   "version": "3.12.6"
  }
 },
 "nbformat": 4,
 "nbformat_minor": 5
}
