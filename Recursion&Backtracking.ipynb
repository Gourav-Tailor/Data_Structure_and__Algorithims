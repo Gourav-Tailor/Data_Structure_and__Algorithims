{
 "cells": [
  {
   "cell_type": "code",
   "execution_count": 1,
   "id": "745064ca",
   "metadata": {},
   "outputs": [
    {
     "name": "stdout",
     "output_type": "stream",
     "text": [
      "[[], [1], [1, 2], [1, 2, 3], [1, 3], [2], [2, 3], [3]]\n"
     ]
    }
   ],
   "source": [
    "# permutations for subsets\n",
    "\n",
    "def subsets(nums):\n",
    "    def backtrack(start, path):\n",
    "        result.append(path)\n",
    "        for i in range(start, len(nums)):\n",
    "            backtrack(i + 1, path + [nums[i]])\n",
    "    result = []\n",
    "    backtrack(0, [])\n",
    "    return result\n",
    "\n",
    "nums = [1,2,3]\n",
    "print(subsets(nums))"
   ]
  },
  {
   "cell_type": "code",
   "execution_count": 2,
   "id": "98857b7b",
   "metadata": {},
   "outputs": [
    {
     "name": "stdout",
     "output_type": "stream",
     "text": [
      "[[1, 2, 3], [1, 3, 2], [2, 1, 3], [2, 3, 1], [3, 1, 2], [3, 2, 1]]\n"
     ]
    }
   ],
   "source": [
    "# permute for subsets\n",
    "\n",
    "def permute(nums):\n",
    "    def backtrack(path):\n",
    "        if len(path) == len(nums):\n",
    "            result.append(path[:])\n",
    "            return\n",
    "        for num in nums:\n",
    "            if num not in path:\n",
    "                path.append(num)\n",
    "                backtrack(path)\n",
    "                path.pop()\n",
    "    result = []\n",
    "    backtrack([])\n",
    "    return result\n",
    "\n",
    "nums = [1,2,3]\n",
    "print(permute(nums))"
   ]
  },
  {
   "cell_type": "code",
   "execution_count": 3,
   "id": "239d0c51",
   "metadata": {},
   "outputs": [
    {
     "name": "stdout",
     "output_type": "stream",
     "text": [
      "[[1, 2], [1, 3], [2, 3]]\n"
     ]
    }
   ],
   "source": [
    "# combination for subsets\n",
    "\n",
    "def combine(n, k):\n",
    "    def backtrack(start, path):\n",
    "        if len(path) == k:\n",
    "            result.append(path[:])\n",
    "            return\n",
    "        for i in range(start, n + 1):\n",
    "            path.append(i)\n",
    "            backtrack(i + 1, path)\n",
    "            path.pop()\n",
    "    result = []\n",
    "    backtrack(1, [])\n",
    "    return result\n",
    "\n",
    "arr = [1,2,3]\n",
    "print(combine(len(arr), 2))"
   ]
  },
  {
   "cell_type": "code",
   "execution_count": 10,
   "id": "79f82487",
   "metadata": {},
   "outputs": [
    {
     "name": "stdout",
     "output_type": "stream",
     "text": [
      "5 3 2 |6 7 8 |9 4 1\n",
      "6 7 4 |1 9 5 |3 2 8\n",
      "1 9 8 |3 4 2 |5 6 7\n",
      "-------------------\n",
      "8 2 9 |7 6 1 |4 5 3\n",
      "4 1 6 |8 5 3 |7 9 2\n",
      "7 5 3 |9 2 4 |8 1 6\n",
      "-------------------\n",
      "9 6 1 |5 3 7 |2 8 4\n",
      "2 8 7 |4 1 9 |6 3 5\n",
      "3 4 5 |2 8 6 |1 7 9\n"
     ]
    }
   ],
   "source": [
    "# sudoku solver\n",
    "\n",
    "def is_valid(board, row, col, num):\n",
    "\n",
    "    for x in range(9):\n",
    "        if board[row][x] == num:\n",
    "            return False\n",
    "    \n",
    "    for x in range(9):\n",
    "        if board[x][col] == num:\n",
    "            return False\n",
    "    \n",
    "    start_col = col - col % 3\n",
    "    start_row = row - row % 3\n",
    "    for i in range(3):\n",
    "        for j in range(3):\n",
    "            if board[i + start_row][j + start_col] == num:\n",
    "                return False\n",
    "    return True\n",
    "\n",
    "def solve_sudoku(board):\n",
    "    for i in range(9):\n",
    "        for j in range(9):\n",
    "            if board[i][j] == 0:\n",
    "                for num in range(1, 10):\n",
    "                    if is_valid(board, i, j, num):\n",
    "                        board[i][j] = num\n",
    "                        if solve_sudoku(board):\n",
    "                            return True\n",
    "                        board[i][j] = 0\n",
    "                return False\n",
    "    return True\n",
    "\n",
    "def print_board(board):\n",
    "    for i in range(9):\n",
    "        if i % 3 == 0 and i != 0:\n",
    "            print(\"-------------------\")\n",
    "        for j in range(9):\n",
    "            if j % 3 == 0 and j != 0:\n",
    "                print(\"|\", end=\"\")\n",
    "            if j == 8:\n",
    "                print(board[i][j])\n",
    "            else:\n",
    "                print(str(board[i][j]) + \" \", end=\"\")\n",
    "\n",
    "board = [\n",
    "    [5,3,0,0,7,0,0,0,0],\n",
    "    [6,0,0,1,9,5,0,0,0],\n",
    "    [0,9,8,0,0,0,0,6,0],\n",
    "    [8,0,0,0,6,0,0,0,3],\n",
    "    [4,0,0,8,0,3,0,0,0,1],\n",
    "    [7,0,0,0,2,0,0,0,6],\n",
    "    [0,6,0,0,0,0,2,8,0],\n",
    "    [0,0,0,4,1,9,0,0,5],\n",
    "    [0,0,0,0,8,0,0,7,9]\n",
    "]\n",
    "\n",
    "if solve_sudoku(board):\n",
    "    print_board(board)\n",
    "else:\n",
    "    print(\"No solution exist\")"
   ]
  },
  {
   "cell_type": "code",
   "execution_count": 13,
   "id": "4d3575b9",
   "metadata": {},
   "outputs": [
    {
     "name": "stdout",
     "output_type": "stream",
     "text": [
      "Solution 1\n",
      ".Q..\n",
      "...Q\n",
      "Q...\n",
      "..Q.\n",
      "\n",
      "Solution 2\n",
      "..Q.\n",
      "Q...\n",
      "...Q\n",
      ".Q..\n",
      "\n"
     ]
    }
   ],
   "source": [
    "# solving n queens problem\n",
    "\n",
    "def solve_n_queens(n):\n",
    "    def is_valid(board, row, col):\n",
    "        for i in range(row):\n",
    "            if board[i] == col or board[i] - i == col - row or board[i] + i == col + row:\n",
    "                return False\n",
    "        return True\n",
    "    def backtrack(row, board):\n",
    "        if row == n:\n",
    "            result.append(board[:])\n",
    "            return\n",
    "        for col in range(n):\n",
    "            if is_valid(board, row, col):\n",
    "                board[row] = col\n",
    "                backtrack(row + 1, board)\n",
    "\n",
    "    result = []\n",
    "    backtrack(0, [-1]*n)\n",
    "    return [[\".\"*i + \"Q\" + \".\"*(n-i-1) for i in sol] for sol in result]\n",
    "\n",
    "n = 4\n",
    "solutions = solve_n_queens(n)\n",
    "for i, solution in enumerate(solutions):\n",
    "    print(\"Solution\", i + 1)\n",
    "    for row in solution:\n",
    "        print(row)\n",
    "    print()"
   ]
  },
  {
   "cell_type": "code",
   "execution_count": 17,
   "id": "faa58ca2",
   "metadata": {},
   "outputs": [
    {
     "name": "stdout",
     "output_type": "stream",
     "text": [
      "Word exists:  True\n"
     ]
    }
   ],
   "source": [
    "# word search (DFS based)\n",
    "\n",
    "def exist(board, word):\n",
    "    m, n = len(board), len(board[0])\n",
    "    directions = [(0,1),(0,-1),(1,0),(-1,0)]\n",
    "\n",
    "    def dfs(i, j, k):\n",
    "        if k == len(word):\n",
    "            return True\n",
    "        if i < 0 or i >= m or j < 0 or j >= n or board[i][j] != word[k]:\n",
    "            return False\n",
    "        temp = board[i][j]\n",
    "        for di, dj in directions:\n",
    "            if dfs(i + di, j + dj, k + 1):\n",
    "                return True\n",
    "        board[i][j] = temp\n",
    "        return False\n",
    "    for i in range(m):\n",
    "        for j in range(n):\n",
    "            if dfs(i, j, 0):\n",
    "                return True\n",
    "    return False\n",
    "\n",
    "board = [\n",
    "    ['A','B','C','E'],\n",
    "    ['S','F','C','S'],\n",
    "    ['A','D','E','E']\n",
    "]      \n",
    "word = \"ABCCED\"\n",
    "print(\"Word exists: \", exist(board,word))"
   ]
  },
  {
   "cell_type": "code",
   "execution_count": null,
   "id": "1173ee65",
   "metadata": {},
   "outputs": [],
   "source": []
  }
 ],
 "metadata": {
  "kernelspec": {
   "display_name": "Python 3",
   "language": "python",
   "name": "python3"
  },
  "language_info": {
   "codemirror_mode": {
    "name": "ipython",
    "version": 3
   },
   "file_extension": ".py",
   "mimetype": "text/x-python",
   "name": "python",
   "nbconvert_exporter": "python",
   "pygments_lexer": "ipython3",
   "version": "3.12.6"
  }
 },
 "nbformat": 4,
 "nbformat_minor": 5
}
