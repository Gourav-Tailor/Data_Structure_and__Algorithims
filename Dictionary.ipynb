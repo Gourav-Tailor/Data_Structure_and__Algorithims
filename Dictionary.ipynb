{
 "cells": [
  {
   "cell_type": "code",
   "execution_count": 1,
   "id": "09d9cc63",
   "metadata": {},
   "outputs": [],
   "source": [
    "dictionary_1 = {'A': 1, 'B': 2, 'C': 3}\n",
    "\n",
    "dictionary_2 = dict([('D', 4), ('E', 5)])"
   ]
  },
  {
   "cell_type": "code",
   "execution_count": 7,
   "id": "4e0593d7",
   "metadata": {},
   "outputs": [
    {
     "name": "stdout",
     "output_type": "stream",
     "text": [
      "dict_keys(['A', 'B', 'C'])\n"
     ]
    }
   ],
   "source": [
    "print(dictionary_1.keys())"
   ]
  },
  {
   "cell_type": "code",
   "execution_count": 8,
   "id": "8b5c1698",
   "metadata": {},
   "outputs": [
    {
     "name": "stdout",
     "output_type": "stream",
     "text": [
      "dict_values([1, 2, 3])\n"
     ]
    }
   ],
   "source": [
    "print(dictionary_1.values())"
   ]
  },
  {
   "cell_type": "code",
   "execution_count": 9,
   "id": "21933ea0",
   "metadata": {},
   "outputs": [
    {
     "name": "stdout",
     "output_type": "stream",
     "text": [
      "dict_items([('A', 1), ('B', 2), ('C', 3)])\n"
     ]
    }
   ],
   "source": [
    "print(dictionary_1.items())"
   ]
  },
  {
   "cell_type": "code",
   "execution_count": 5,
   "id": "0fe4d9bb",
   "metadata": {},
   "outputs": [
    {
     "name": "stdout",
     "output_type": "stream",
     "text": [
      "0\n"
     ]
    }
   ],
   "source": [
    "print(dictionary_1.get('X', 0))"
   ]
  },
  {
   "cell_type": "code",
   "execution_count": 10,
   "id": "9208812d",
   "metadata": {},
   "outputs": [
    {
     "name": "stdout",
     "output_type": "stream",
     "text": [
      "{'A': 100, 'B': 200, 'C': 3, 'X': 1000, 'Y': 2000}\n"
     ]
    }
   ],
   "source": [
    "dictionary_1.update([('A',100), ('B',200)])\n",
    "dictionary_1.update(X=1000, Y=2000)\n",
    "print(dictionary_1)"
   ]
  },
  {
   "cell_type": "code",
   "execution_count": 1,
   "id": "0dd90e5d",
   "metadata": {},
   "outputs": [],
   "source": [
    "from collections import Counter"
   ]
  },
  {
   "cell_type": "code",
   "execution_count": 4,
   "id": "730b85ba",
   "metadata": {},
   "outputs": [
    {
     "name": "stdout",
     "output_type": "stream",
     "text": [
      "2\n"
     ]
    }
   ],
   "source": [
    "dict_counter = Counter(['Gourav', 'Gourav', 'Uttam', 'Uttam'] )\n",
    "print(dict_counter.get('Gourav'))"
   ]
  },
  {
   "cell_type": "code",
   "execution_count": null,
   "id": "807c795e",
   "metadata": {},
   "outputs": [],
   "source": []
  }
 ],
 "metadata": {
  "kernelspec": {
   "display_name": "Python 3",
   "language": "python",
   "name": "python3"
  },
  "language_info": {
   "codemirror_mode": {
    "name": "ipython",
    "version": 3
   },
   "file_extension": ".py",
   "mimetype": "text/x-python",
   "name": "python",
   "nbconvert_exporter": "python",
   "pygments_lexer": "ipython3",
   "version": "3.12.6"
  }
 },
 "nbformat": 4,
 "nbformat_minor": 5
}
