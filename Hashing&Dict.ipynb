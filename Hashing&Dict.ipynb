{
 "cells": [
  {
   "cell_type": "code",
   "execution_count": 4,
   "id": "d55497b7",
   "metadata": {},
   "outputs": [
    {
     "name": "stdout",
     "output_type": "stream",
     "text": [
      "{'a': 2, 'b': 1, 5: 3}\n"
     ]
    }
   ],
   "source": [
    "#frequency counting in dict\n",
    "\n",
    "def freq_counting(arr):\n",
    "    freq_count = dict()\n",
    "    for el in arr:\n",
    "        if el in freq_count:\n",
    "            freq_count[el] += 1\n",
    "        else:\n",
    "            freq_count[el] = 1\n",
    "    return freq_count\n",
    "\n",
    "arr = ['a', 'a', 'b', 5, 5 , 5]\n",
    "print(freq_counting(arr))"
   ]
  },
  {
   "cell_type": "code",
   "execution_count": 8,
   "id": "a11a0c3f",
   "metadata": {},
   "outputs": [
    {
     "name": "stdout",
     "output_type": "stream",
     "text": [
      "[['eat', 'tea', 'ate', 'eta'], ['tat']]\n"
     ]
    }
   ],
   "source": [
    "#grouping anagrams\n",
    "\n",
    "def grouping_anagrams(strs):\n",
    "    anagrams = {}\n",
    "    for word in strs:\n",
    "        sorted_word = \"\".join(sorted(word))\n",
    "        if sorted_word in anagrams:\n",
    "            anagrams[sorted_word].append(word)\n",
    "        else:\n",
    "            anagrams[sorted_word] = [word]\n",
    "    return list(anagrams.values())\n",
    "\n",
    "strs = ['eat', 'tea', 'ate', 'eta', 'tat']\n",
    "print(grouping_anagrams(strs))"
   ]
  },
  {
   "cell_type": "code",
   "execution_count": null,
   "id": "a659ed96",
   "metadata": {},
   "outputs": [
    {
     "name": "stdout",
     "output_type": "stream",
     "text": [
      "30\n",
      "['apple']\n"
     ]
    }
   ],
   "source": [
    "# hash map dict and set\n",
    "\n",
    "class HashMap:\n",
    "    def __init__(self):\n",
    "        self.size = 10\n",
    "        self.map = [[] for _ in range(self.size)]\n",
    "    \n",
    "    def _hash(self, key):\n",
    "        return hash(key) % self.size\n",
    "\n",
    "    def put(self, key, value):\n",
    "        index = self._hash(key)\n",
    "        bucket = self.map[index]\n",
    "        for i, (k, v) in enumerate(bucket):\n",
    "            if k == key:\n",
    "                bucket[i] = (key, value)\n",
    "                return\n",
    "        bucket.append((key, value))\n",
    "    \n",
    "    def get(self, key):\n",
    "        index = self._hash(key)\n",
    "        bucket = self.map[index]\n",
    "        for i, (k, v) in enumerate(bucket):\n",
    "            if k == key:\n",
    "                return v\n",
    "        return None\n",
    "    \n",
    "    def duplicates(self, keys):\n",
    "        seen = set()\n",
    "        duplicates = []\n",
    "        for key in keys:\n",
    "            if key in seen:\n",
    "                duplicates.append(key)\n",
    "            seen.add(key)\n",
    "        return duplicates\n",
    "    \n",
    "    def collisions(self):\n",
    "        pass\n",
    "    \n",
    "hash_map = HashMap()\n",
    "keys = [\"apple\", \"banana\", \"apple\", \"orange\"]\n",
    "values  = [10,20,30,40,50]\n",
    "\n",
    "for key, value in zip(keys, values):\n",
    "    hash_map.put(key, value)\n",
    "\n",
    "print(hash_map.get(\"apple\"))\n",
    "print(hash_map.duplicates(keys))\n"
   ]
  },
  {
   "cell_type": "code",
   "execution_count": 19,
   "id": "455a9ad5",
   "metadata": {},
   "outputs": [
    {
     "name": "stdout",
     "output_type": "stream",
     "text": [
      "length of longest substring :  3\n"
     ]
    }
   ],
   "source": [
    "# hashing for sliding window\n",
    "\n",
    "def longest_substring_length(s):\n",
    "    char_index_map = dict()\n",
    "    left = 0\n",
    "    max_len = 0\n",
    "    for right, right_char in enumerate(s):\n",
    "        if right_char in char_index_map:\n",
    "            left = max(left, char_index_map[right_char] + 1)\n",
    "        char_index_map[right_char] = right\n",
    "        max_len = max(max_len, right - left + 1)\n",
    "    return max_len\n",
    "\n",
    "s = \"abcabcbb\"\n",
    "print(f\"length of longest substring : \", longest_substring_length(s))\n"
   ]
  },
  {
   "cell_type": "code",
   "execution_count": null,
   "id": "9fbdbc1d",
   "metadata": {},
   "outputs": [],
   "source": []
  }
 ],
 "metadata": {
  "kernelspec": {
   "display_name": "Python 3",
   "language": "python",
   "name": "python3"
  },
  "language_info": {
   "codemirror_mode": {
    "name": "ipython",
    "version": 3
   },
   "file_extension": ".py",
   "mimetype": "text/x-python",
   "name": "python",
   "nbconvert_exporter": "python",
   "pygments_lexer": "ipython3",
   "version": "3.12.6"
  }
 },
 "nbformat": 4,
 "nbformat_minor": 5
}
