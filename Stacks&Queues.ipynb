{
 "cells": [
  {
   "cell_type": "code",
   "execution_count": 3,
   "id": "2b158576",
   "metadata": {},
   "outputs": [
    {
     "name": "stdout",
     "output_type": "stream",
     "text": [
      "True\n"
     ]
    }
   ],
   "source": [
    "# stack and queues\n",
    "\n",
    "def is_valid_parentheses(s):\n",
    "    parentheses = {\"}\":\"{\", \")\":\"(\", \"]\":\"[\"}\n",
    "    stack = []\n",
    "    for char in s:\n",
    "        if char in parentheses.values():\n",
    "            stack.append(char)\n",
    "        elif char in parentheses:\n",
    "            if stack == [] or parentheses[char] != stack.pop():\n",
    "                return False\n",
    "    return stack == []\n",
    "\n",
    "s = \"{}[](())\"\n",
    "\n",
    "print(is_valid_parentheses(s))"
   ]
  },
  {
   "cell_type": "code",
   "execution_count": 5,
   "id": "bfd85ddb",
   "metadata": {},
   "outputs": [
    {
     "name": "stdout",
     "output_type": "stream",
     "text": [
      "Min:  -3\n",
      "0\n",
      "-2\n"
     ]
    }
   ],
   "source": [
    "# min stack implementation\n",
    "\n",
    "class MinStack:\n",
    "    def __init__(self):\n",
    "        self.stack = []\n",
    "        self.min_stack = []\n",
    "    \n",
    "    def push(self, x):\n",
    "        self.stack.append(x)\n",
    "        if not self.min_stack or x <= self.min_stack[-1]:\n",
    "            self.min_stack.append(x)\n",
    "    \n",
    "    def pop(self):\n",
    "        if self.stack:\n",
    "            if self.stack[-1] == self.min_stack[-1]:\n",
    "                self.min_stack.pop()\n",
    "            return self.stack.pop()\n",
    "    \n",
    "    def top(self):\n",
    "        if self.stack:\n",
    "            return self.stack[-1]\n",
    "    \n",
    "    def getMin(self):\n",
    "        if self.min_stack:\n",
    "            return self.min_stack[-1]\n",
    "\n",
    "min_stack = MinStack()\n",
    "min_stack.push(-2)\n",
    "min_stack.push(0)\n",
    "min_stack.push(-3)\n",
    "print(\"Min: \", min_stack.getMin())\n",
    "min_stack.pop()\n",
    "print(min_stack.top())\n",
    "print(min_stack.getMin())"
   ]
  },
  {
   "cell_type": "code",
   "execution_count": 8,
   "id": "9d7d01e1",
   "metadata": {},
   "outputs": [
    {
     "name": "stdout",
     "output_type": "stream",
     "text": [
      "Next greater element:  [5, 25, 25, -1]\n"
     ]
    }
   ],
   "source": [
    "# monotonic stack\n",
    "'''\n",
    "    A montonic stack is a stack that \n",
    "    maintains a monotonic order (either increasing or decreasing)\n",
    "    or elements\n",
    "'''\n",
    "\n",
    "def next_greater_element(nums):\n",
    "    stack = []\n",
    "    result = [-1] * len(nums)\n",
    "\n",
    "    for i in range(len(nums)):\n",
    "        while stack and nums[stack[-1]] < nums[i]:\n",
    "            result[stack.pop()] = nums[i]\n",
    "        stack.append(i)\n",
    "\n",
    "    return result\n",
    "\n",
    "nums = [4,5,2,25]\n",
    "print(\"Next greater element: \", next_greater_element(nums) )"
   ]
  },
  {
   "cell_type": "code",
   "execution_count": null,
   "id": "26cf1d87",
   "metadata": {},
   "outputs": [
    {
     "name": "stdout",
     "output_type": "stream",
     "text": [
      "[3, 3, 5, 5, 6, 7]\n"
     ]
    }
   ],
   "source": [
    "# sliding window maximum (Deque)\n",
    "from collections import deque\n",
    "\n",
    "def max_sliding_window(nums, k):\n",
    "    dq = deque()\n",
    "    result = []\n",
    "\n",
    "    for i in range(len(nums)):\n",
    "        while dq and dq[0] < i - k + 1:\n",
    "            dq.popleft()\n",
    "\n",
    "        while dq and nums[dq[-1]] < nums[i]:\n",
    "            dq.pop()\n",
    "\n",
    "        dq.append(i)\n",
    "\n",
    "        if i >= k - 1:\n",
    "            result.append(nums[dq[0]])\n",
    "            \n",
    "    return result\n",
    "\n",
    "nums = [1,3,-1,-3,5,3,6,7]\n",
    "k = 3\n",
    "print(max_sliding_window(nums, k))"
   ]
  },
  {
   "cell_type": "code",
   "execution_count": 17,
   "id": "9fc71537",
   "metadata": {},
   "outputs": [
    {
     "name": "stdout",
     "output_type": "stream",
     "text": [
      "100\n",
      "100\n",
      "-1\n",
      "-1\n",
      "300\n",
      "400\n"
     ]
    }
   ],
   "source": [
    "# design LRU Cache\n",
    "\n",
    "from collections import OrderedDict\n",
    "\n",
    "class LRUCache:\n",
    "    def __init__(self, capacity):\n",
    "        self.capacity = capacity\n",
    "        self.cache = OrderedDict()\n",
    "    \n",
    "    def get(self, key):\n",
    "        if key in self.cache:\n",
    "            value = self.cache.pop(key)\n",
    "            self.cache[key] = value\n",
    "            return value\n",
    "        return -1\n",
    "\n",
    "    def put(self, key, value):\n",
    "        if key in self.cache:\n",
    "            self.cache.pop(key)\n",
    "        elif len(self.cache) >= self.capacity:\n",
    "            self.cache.popitem(last=False)\n",
    "        self.cache[key] = value\n",
    "\n",
    "cache = LRUCache(2)\n",
    "cache.put(1,100)\n",
    "cache.put(2,200)\n",
    "print(cache.get(1))\n",
    "print(cache.get(1))\n",
    "cache.put(3,300)\n",
    "print(cache.get(2))\n",
    "cache.put(4,400)\n",
    "print(cache.get(1))\n",
    "print(cache.get(3))\n",
    "print(cache.get(4))"
   ]
  },
  {
   "cell_type": "code",
   "execution_count": null,
   "id": "5fcc5c8e",
   "metadata": {},
   "outputs": [],
   "source": []
  }
 ],
 "metadata": {
  "kernelspec": {
   "display_name": "Python 3",
   "language": "python",
   "name": "python3"
  },
  "language_info": {
   "codemirror_mode": {
    "name": "ipython",
    "version": 3
   },
   "file_extension": ".py",
   "mimetype": "text/x-python",
   "name": "python",
   "nbconvert_exporter": "python",
   "pygments_lexer": "ipython3",
   "version": "3.12.6"
  }
 },
 "nbformat": 4,
 "nbformat_minor": 5
}
