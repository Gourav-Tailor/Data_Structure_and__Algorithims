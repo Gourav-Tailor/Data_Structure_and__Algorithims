{
 "cells": [
  {
   "cell_type": "markdown",
   "id": "ddb1f183",
   "metadata": {},
   "source": [
    "### Decorators and Least Recently Used cache streategy"
   ]
  },
  {
   "cell_type": "code",
   "execution_count": 12,
   "id": "b7a4b4df",
   "metadata": {},
   "outputs": [],
   "source": [
    "\n",
    "from functools import lru_cache\n",
    "import time"
   ]
  },
  {
   "cell_type": "code",
   "execution_count": 37,
   "id": "105547a2",
   "metadata": {},
   "outputs": [],
   "source": [
    "def logger(func):\n",
    "    def wrapper(*arg,**kwargs):\n",
    "        print(\"Before\")\n",
    "        func(*arg,**kwargs)\n",
    "        print(\"after\")\n",
    "    return wrapper"
   ]
  },
  {
   "cell_type": "code",
   "execution_count": 52,
   "id": "fdb0c71f",
   "metadata": {},
   "outputs": [],
   "source": [
    "@lru_cache(maxsize=128)\n",
    "@logger\n",
    "def fibonaci(n: int) -> int: \n",
    "    time.sleep(2)\n",
    "    print(n)"
   ]
  },
  {
   "cell_type": "code",
   "execution_count": 56,
   "id": "047d35b4",
   "metadata": {},
   "outputs": [],
   "source": [
    "fibonaci('101')"
   ]
  },
  {
   "cell_type": "code",
   "execution_count": null,
   "id": "e4593a96",
   "metadata": {},
   "outputs": [],
   "source": []
  }
 ],
 "metadata": {
  "kernelspec": {
   "display_name": "Python 3",
   "language": "python",
   "name": "python3"
  },
  "language_info": {
   "codemirror_mode": {
    "name": "ipython",
    "version": 3
   },
   "file_extension": ".py",
   "mimetype": "text/x-python",
   "name": "python",
   "nbconvert_exporter": "python",
   "pygments_lexer": "ipython3",
   "version": "3.12.6"
  }
 },
 "nbformat": 4,
 "nbformat_minor": 5
}
