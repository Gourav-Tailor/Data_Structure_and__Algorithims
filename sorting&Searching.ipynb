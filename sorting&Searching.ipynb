{
 "cells": [
  {
   "cell_type": "code",
   "execution_count": 5,
   "id": "1079e30f",
   "metadata": {},
   "outputs": [
    {
     "name": "stdout",
     "output_type": "stream",
     "text": [
      "['Uttam', 'Lucky', 'Gourav']\n"
     ]
    }
   ],
   "source": [
    "# custom comparator in python\n",
    "\n",
    "class Person:\n",
    "    def __init__(self, name, age, salary):\n",
    "        self.name = name\n",
    "        self.age = age\n",
    "        self.salary = salary\n",
    "    \n",
    "    def __lt__(self, other):\n",
    "        return self.age < other.age\n",
    "\n",
    "persons = [Person(\"Gourav\", 26, 900000), Person(\"Uttam\", 24, 1100000), Person(\"Lucky\", 25, 1800000)]\n",
    "\n",
    "persons.sort(key=lambda p: p.age)\n",
    "\n",
    "print([p.name for p in persons])"
   ]
  },
  {
   "cell_type": "code",
   "execution_count": 6,
   "id": "8d2ec609",
   "metadata": {},
   "outputs": [
    {
     "name": "stdout",
     "output_type": "stream",
     "text": [
      "['Uttam', 'Lucky', 'Gourav']\n"
     ]
    }
   ],
   "source": [
    "persons.sort()\n",
    "\n",
    "print([p.name for p in persons])"
   ]
  },
  {
   "cell_type": "code",
   "execution_count": 20,
   "id": "ecc57ca3",
   "metadata": {},
   "outputs": [
    {
     "name": "stdout",
     "output_type": "stream",
     "text": [
      "-1\n"
     ]
    }
   ],
   "source": [
    "# binary search\n",
    "\n",
    "def binary_search(arr, x):\n",
    "    left, right = 0, len(arr)-1\n",
    "    while left <= right:\n",
    "        mid = (left + right) // 2\n",
    "        if x == arr[mid]:\n",
    "            return mid\n",
    "        elif x < arr[mid]:\n",
    "            right = mid - 1\n",
    "        else:\n",
    "            left = mid + 1\n",
    "    return -1\n",
    "\n",
    "arr = [10,11,12,13,14]\n",
    "print(binary_search(arr, 15))"
   ]
  },
  {
   "cell_type": "code",
   "execution_count": 27,
   "id": "59155b44",
   "metadata": {},
   "outputs": [
    {
     "name": "stdout",
     "output_type": "stream",
     "text": [
      "4\n"
     ]
    }
   ],
   "source": [
    "# first occurence search with binary search\n",
    "\n",
    "def first_occurence(arr, target):\n",
    "    left, right = 0, len(arr) - 1\n",
    "    result = -1\n",
    "    while left <= right:\n",
    "        mid = (left + right) // 2\n",
    "        if arr[mid] == target:\n",
    "            result = mid\n",
    "            right = mid - 1\n",
    "        elif arr[mid] < target:\n",
    "            left = mid + 1\n",
    "        else:\n",
    "            right = mid - 1\n",
    "    return result\n",
    "\n",
    "arr = [1,1,2,2,3,3,3,3,4,4]\n",
    "\n",
    "print(first_occurence(arr, 3))\n",
    "\n"
   ]
  },
  {
   "cell_type": "code",
   "execution_count": 28,
   "id": "9a3f1856",
   "metadata": {},
   "outputs": [
    {
     "name": "stdout",
     "output_type": "stream",
     "text": [
      "7\n"
     ]
    }
   ],
   "source": [
    "# last occurence search with binary search\n",
    "\n",
    "def first_occurence(arr, target):\n",
    "    left, right = 0, len(arr) - 1\n",
    "    result = -1\n",
    "    while left <= right:\n",
    "        mid = (left + right) // 2\n",
    "        if arr[mid] == target:\n",
    "            result = mid\n",
    "            left = mid + 1\n",
    "        elif arr[mid] < target:\n",
    "            left = mid + 1\n",
    "        else:\n",
    "            right = mid - 1\n",
    "    return result\n",
    "\n",
    "arr = [1,1,2,2,3,3,3,3,4,4]\n",
    "\n",
    "print(first_occurence(arr, 3))\n",
    "\n"
   ]
  },
  {
   "cell_type": "code",
   "execution_count": 31,
   "id": "0c67115d",
   "metadata": {},
   "outputs": [
    {
     "name": "stdout",
     "output_type": "stream",
     "text": [
      "1\n"
     ]
    }
   ],
   "source": [
    "# rotated sorted array based binary search\n",
    "\n",
    "def search_rotated_array(arr, target):\n",
    "    left, right = 0, len(arr) - 1\n",
    "    while left <= right:\n",
    "        mid = (left + right) // 2\n",
    "        if arr[mid] == target:\n",
    "            return mid\n",
    "        elif arr[mid] < target:\n",
    "            if arr[mid] < target <= arr[right]:\n",
    "                left = mid + 1\n",
    "            else:\n",
    "                right = mid - 1\n",
    "        else:\n",
    "            if arr[left] <= target < arr[mid]:\n",
    "                right = mid - 1\n",
    "            else:\n",
    "                left = mid + 1\n",
    "    return -1\n",
    "\n",
    "arr = [4,5,6,0,1,2,3]\n",
    "print(search_rotated_array(arr, 5))"
   ]
  },
  {
   "cell_type": "code",
   "execution_count": 36,
   "id": "e162945e",
   "metadata": {},
   "outputs": [
    {
     "name": "stdout",
     "output_type": "stream",
     "text": [
      "4\n"
     ]
    }
   ],
   "source": [
    "# nth largest element in array using heap\n",
    "import heapq\n",
    "\n",
    "def nth_largest_num(arr, n):\n",
    "    return heapq.nlargest(n, arr)[-1]\n",
    "\n",
    "arr = [1,2,3,4,5,6]\n",
    "print(nth_largest_num(arr, 3))"
   ]
  }
 ],
 "metadata": {
  "kernelspec": {
   "display_name": "Python 3",
   "language": "python",
   "name": "python3"
  },
  "language_info": {
   "codemirror_mode": {
    "name": "ipython",
    "version": 3
   },
   "file_extension": ".py",
   "mimetype": "text/x-python",
   "name": "python",
   "nbconvert_exporter": "python",
   "pygments_lexer": "ipython3",
   "version": "3.12.6"
  }
 },
 "nbformat": 4,
 "nbformat_minor": 5
}
